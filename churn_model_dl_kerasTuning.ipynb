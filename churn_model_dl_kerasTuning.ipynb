{
 "cells": [
  {
   "cell_type": "markdown",
   "metadata": {},
   "source": [
    "# Keras tunner"
   ]
  },
  {
   "cell_type": "code",
   "execution_count": 45,
   "metadata": {},
   "outputs": [],
   "source": [
    "# pip install keras-tuner"
   ]
  },
  {
   "cell_type": "code",
   "execution_count": 46,
   "metadata": {},
   "outputs": [],
   "source": [
    "# making the basic Machine learning pipeline works\n",
    "import pandas as pd\n",
    "# Importing the dataset\n",
    "dataset = pd.read_csv('Churn_Modelling.csv')\n",
    "X = dataset.iloc[:, 3:13]\n",
    "y = dataset.iloc[:, 13]\n",
    "#Create dummy variables\n",
    "geography=pd.get_dummies(X[\"Geography\"],drop_first=True)\n",
    "gender=pd.get_dummies(X['Gender'],drop_first=True)\n",
    "## Concatenate the Data Frames\n",
    "\n",
    "X=pd.concat([X,geography,gender],axis=1)\n",
    "\n",
    "## Drop Unnecessary columns\n",
    "X=X.drop(['Geography','Gender'],axis=1)\n",
    "# Splitting the dataset into the Training set and Test set\n",
    "\n",
    "\n",
    "from sklearn.model_selection import train_test_split\n",
    "X_train, X_test, y_train, y_test = train_test_split(X, y, test_size = 0.2, random_state = 0)\n",
    "\n",
    "\n",
    "from sklearn.preprocessing import StandardScaler\n",
    "scaler = StandardScaler()\n",
    "\n",
    "X_train = scaler.fit_transform(X_train) \n",
    "X_test = scaler.transform(X_test)"
   ]
  },
  {
   "cell_type": "code",
   "execution_count": 47,
   "metadata": {},
   "outputs": [
    {
     "data": {
      "text/plain": [
       "(8000, 11)"
      ]
     },
     "execution_count": 47,
     "metadata": {},
     "output_type": "execute_result"
    }
   ],
   "source": [
    "X_train.shape"
   ]
  },
  {
   "cell_type": "code",
   "execution_count": 48,
   "metadata": {},
   "outputs": [],
   "source": [
    "# get the neccessary packages and libraries for the model\n",
    "import tensorflow\n",
    "from tensorflow import keras\n",
    "from tensorflow.keras import layers\n",
    "from kerastuner.tuners import RandomSearch"
   ]
  },
  {
   "cell_type": "code",
   "execution_count": 62,
   "metadata": {},
   "outputs": [],
   "source": [
    "def build_model(hp):\n",
    "    model = keras.Sequential()\n",
    "    # the below for looop has been checking betweee 2 to 20 no of hidden layers per the ssearch of the best model\n",
    "    for i in range(hp.Int('num_layers', 2, 20)):\n",
    "        # hp is an inbuilt variable \n",
    "        # here in the below we use hp.Int to create neurons for the hidden layers min 32 to max 512 with step 32\n",
    "        model.add(layers.Dense(units=hp.Int('units_'+str(i),\n",
    "                                           min_value=32,\n",
    "                                           max_value=512,\n",
    "                                           step = 32),\n",
    "                               #actvation is relu\n",
    "                                           activation = 'relu'))\n",
    "        #this is the ooutput layers\n",
    "    model.add(layers.Dense(1, activation='sigmoid'))\n",
    "            #in here the model optimizers are used to compile and check on with the optimizer and learnig rate specific value is checked using hp.choice\n",
    "    model.compile(\n",
    "                 optimizer= keras.optimizers.Adam(\n",
    "                 hp.Choice('learning_rate', [1e-2, 1e-3, 1e-4])),\n",
    "                 loss='binary_crossentropy',\n",
    "                 metrics=['accuracy'])\n",
    "    return model"
   ]
  },
  {
   "cell_type": "code",
   "execution_count": 63,
   "metadata": {},
   "outputs": [
    {
     "name": "stdout",
     "output_type": "stream",
     "text": [
      "INFO:tensorflow:Reloading Oracle from existing project ANN/churn1/oracle.json\n",
      "INFO:tensorflow:Reloading Tuner from ANN/churn1/tuner0.json\n"
     ]
    }
   ],
   "source": [
    "tuner = RandomSearch(\n",
    "            build_model, objective='val_accuracy', max_trials=5,\n",
    "    executions_per_trial = 3,\n",
    "    directory = 'ANN',\n",
    "    project_name='churn1')\n",
    "#val_accuracy is with respect to test data"
   ]
  },
  {
   "cell_type": "code",
   "execution_count": 64,
   "metadata": {},
   "outputs": [
    {
     "name": "stdout",
     "output_type": "stream",
     "text": [
      "Search space summary\n",
      "Default search space size: 22\n",
      "num_layers (Int)\n",
      "{'default': None, 'conditions': [], 'min_value': 2, 'max_value': 20, 'step': 1, 'sampling': None}\n",
      "units_0 (Int)\n",
      "{'default': None, 'conditions': [], 'min_value': 32, 'max_value': 512, 'step': 32, 'sampling': None}\n",
      "units_1 (Int)\n",
      "{'default': None, 'conditions': [], 'min_value': 32, 'max_value': 512, 'step': 32, 'sampling': None}\n",
      "learning_rate (Choice)\n",
      "{'default': 0.01, 'conditions': [], 'values': [0.01, 0.001, 0.0001], 'ordered': True}\n",
      "units_2 (Int)\n",
      "{'default': None, 'conditions': [], 'min_value': 32, 'max_value': 512, 'step': 32, 'sampling': None}\n",
      "units_3 (Int)\n",
      "{'default': None, 'conditions': [], 'min_value': 32, 'max_value': 512, 'step': 32, 'sampling': None}\n",
      "units_4 (Int)\n",
      "{'default': None, 'conditions': [], 'min_value': 32, 'max_value': 512, 'step': 32, 'sampling': None}\n",
      "units_5 (Int)\n",
      "{'default': None, 'conditions': [], 'min_value': 32, 'max_value': 512, 'step': 32, 'sampling': None}\n",
      "units_6 (Int)\n",
      "{'default': None, 'conditions': [], 'min_value': 32, 'max_value': 512, 'step': 32, 'sampling': None}\n",
      "units_7 (Int)\n",
      "{'default': None, 'conditions': [], 'min_value': 32, 'max_value': 512, 'step': 32, 'sampling': None}\n",
      "units_8 (Int)\n",
      "{'default': None, 'conditions': [], 'min_value': 32, 'max_value': 512, 'step': 32, 'sampling': None}\n",
      "units_9 (Int)\n",
      "{'default': None, 'conditions': [], 'min_value': 32, 'max_value': 512, 'step': 32, 'sampling': None}\n",
      "units_10 (Int)\n",
      "{'default': None, 'conditions': [], 'min_value': 32, 'max_value': 512, 'step': 32, 'sampling': None}\n",
      "units_11 (Int)\n",
      "{'default': None, 'conditions': [], 'min_value': 32, 'max_value': 512, 'step': 32, 'sampling': None}\n",
      "units_12 (Int)\n",
      "{'default': None, 'conditions': [], 'min_value': 32, 'max_value': 512, 'step': 32, 'sampling': None}\n",
      "units_13 (Int)\n",
      "{'default': None, 'conditions': [], 'min_value': 32, 'max_value': 512, 'step': 32, 'sampling': None}\n",
      "units_14 (Int)\n",
      "{'default': None, 'conditions': [], 'min_value': 32, 'max_value': 512, 'step': 32, 'sampling': None}\n",
      "units_15 (Int)\n",
      "{'default': None, 'conditions': [], 'min_value': 32, 'max_value': 512, 'step': 32, 'sampling': None}\n",
      "units_16 (Int)\n",
      "{'default': None, 'conditions': [], 'min_value': 32, 'max_value': 512, 'step': 32, 'sampling': None}\n",
      "units_17 (Int)\n",
      "{'default': None, 'conditions': [], 'min_value': 32, 'max_value': 512, 'step': 32, 'sampling': None}\n",
      "units_18 (Int)\n",
      "{'default': None, 'conditions': [], 'min_value': 32, 'max_value': 512, 'step': 32, 'sampling': None}\n",
      "units_19 (Int)\n",
      "{'default': None, 'conditions': [], 'min_value': 32, 'max_value': 512, 'step': 32, 'sampling': None}\n"
     ]
    }
   ],
   "source": [
    "# get the info of the search \n",
    "tuner.search_space_summary()\n"
   ]
  },
  {
   "cell_type": "code",
   "execution_count": 44,
   "metadata": {},
   "outputs": [],
   "source": [
    "# pip install --upgrade tensorflow"
   ]
  },
  {
   "cell_type": "code",
   "execution_count": 66,
   "metadata": {},
   "outputs": [
    {
     "name": "stdout",
     "output_type": "stream",
     "text": [
      "INFO:tensorflow:Oracle triggered exit\n"
     ]
    }
   ],
   "source": [
    "tuner.search(X_train, y_train, epochs=5, validation_data = (X_test, y_test))"
   ]
  },
  {
   "cell_type": "code",
   "execution_count": 67,
   "metadata": {},
   "outputs": [
    {
     "name": "stdout",
     "output_type": "stream",
     "text": [
      "INFO:tensorflow:Oracle triggered exit\n"
     ]
    }
   ],
   "source": [
    "tuner.search(X_train, y_train,\n",
    "             epochs=5,\n",
    "             validation_data=(X_test, y_test))"
   ]
  },
  {
   "cell_type": "code",
   "execution_count": 68,
   "metadata": {},
   "outputs": [
    {
     "data": {
      "text/plain": [
       "<bound method BaseTuner.get_best_hyperparameters of <kerastuner.tuners.randomsearch.RandomSearch object at 0x7f4cda30b210>>"
      ]
     },
     "execution_count": 68,
     "metadata": {},
     "output_type": "execute_result"
    }
   ],
   "source": [
    "tuner.get_best_hyperparameters"
   ]
  },
  {
   "cell_type": "code",
   "execution_count": 69,
   "metadata": {},
   "outputs": [
    {
     "data": {
      "text/plain": [
       "[<tensorflow.python.keras.engine.sequential.Sequential at 0x7f4cc5468410>]"
      ]
     },
     "execution_count": 69,
     "metadata": {},
     "output_type": "execute_result"
    }
   ],
   "source": [
    "tuner.get_best_models()"
   ]
  },
  {
   "cell_type": "code",
   "execution_count": 70,
   "metadata": {},
   "outputs": [
    {
     "name": "stdout",
     "output_type": "stream",
     "text": [
      "Results summary\n",
      "Results in ANN/churn1\n",
      "Showing 10 best trials\n",
      "Objective(name='val_accuracy', direction='max')\n",
      "Trial summary\n",
      "Hyperparameters:\n",
      "num_layers: 20\n",
      "units_0: 416\n",
      "units_1: 128\n",
      "learning_rate: 0.001\n",
      "units_2: 32\n",
      "units_3: 32\n",
      "units_4: 32\n",
      "units_5: 32\n",
      "units_6: 32\n",
      "units_7: 32\n",
      "units_8: 32\n",
      "units_9: 32\n",
      "units_10: 32\n",
      "units_11: 32\n",
      "units_12: 32\n",
      "units_13: 32\n",
      "units_14: 32\n",
      "units_15: 32\n",
      "units_16: 32\n",
      "units_17: 32\n",
      "units_18: 32\n",
      "units_19: 32\n",
      "Score: 0.8668333292007446\n",
      "Trial summary\n",
      "Hyperparameters:\n",
      "num_layers: 3\n",
      "units_0: 160\n",
      "units_1: 352\n",
      "learning_rate: 0.001\n",
      "units_2: 160\n",
      "units_3: 320\n",
      "units_4: 384\n",
      "units_5: 416\n",
      "units_6: 64\n",
      "units_7: 512\n",
      "units_8: 96\n",
      "units_9: 128\n",
      "units_10: 64\n",
      "units_11: 64\n",
      "units_12: 96\n",
      "units_13: 288\n",
      "units_14: 352\n",
      "units_15: 320\n",
      "units_16: 64\n",
      "units_17: 512\n",
      "units_18: 32\n",
      "units_19: 64\n",
      "Score: 0.8636666735013326\n",
      "Trial summary\n",
      "Hyperparameters:\n",
      "num_layers: 11\n",
      "units_0: 160\n",
      "units_1: 416\n",
      "learning_rate: 0.0001\n",
      "units_2: 160\n",
      "units_3: 352\n",
      "units_4: 160\n",
      "units_5: 192\n",
      "units_6: 64\n",
      "units_7: 256\n",
      "units_8: 64\n",
      "units_9: 288\n",
      "units_10: 192\n",
      "units_11: 160\n",
      "units_12: 160\n",
      "units_13: 384\n",
      "units_14: 288\n",
      "units_15: 256\n",
      "units_16: 192\n",
      "units_17: 96\n",
      "units_18: 224\n",
      "units_19: 352\n",
      "Score: 0.8634999990463257\n",
      "Trial summary\n",
      "Hyperparameters:\n",
      "num_layers: 4\n",
      "units_0: 128\n",
      "units_1: 64\n",
      "learning_rate: 0.001\n",
      "units_2: 448\n",
      "units_3: 224\n",
      "units_4: 128\n",
      "units_5: 256\n",
      "units_6: 288\n",
      "units_7: 32\n",
      "units_8: 416\n",
      "units_9: 128\n",
      "units_10: 224\n",
      "units_11: 128\n",
      "units_12: 160\n",
      "units_13: 224\n",
      "units_14: 32\n",
      "units_15: 320\n",
      "units_16: 128\n",
      "units_17: 64\n",
      "units_18: 416\n",
      "units_19: 320\n",
      "Score: 0.8629999955495199\n",
      "Trial summary\n",
      "Hyperparameters:\n",
      "num_layers: 13\n",
      "units_0: 96\n",
      "units_1: 192\n",
      "learning_rate: 0.001\n",
      "units_2: 448\n",
      "units_3: 160\n",
      "units_4: 224\n",
      "units_5: 288\n",
      "units_6: 128\n",
      "units_7: 480\n",
      "units_8: 416\n",
      "units_9: 128\n",
      "units_10: 224\n",
      "units_11: 416\n",
      "units_12: 64\n",
      "units_13: 96\n",
      "units_14: 192\n",
      "units_15: 192\n",
      "units_16: 352\n",
      "units_17: 128\n",
      "units_18: 256\n",
      "units_19: 480\n",
      "Score: 0.8606666723887125\n"
     ]
    }
   ],
   "source": [
    "# results summary of the search is here\n",
    "tuner.results_summary()"
   ]
  },
  {
   "cell_type": "markdown",
   "metadata": {},
   "source": [
    "# building the best model and check the accuracy"
   ]
  },
  {
   "cell_type": "code",
   "execution_count": 17,
   "metadata": {},
   "outputs": [],
   "source": [
    "import tensorflow.keras\n",
    "from tensorflow.keras.models import Sequential\n",
    "from tensorflow.keras.layers import Dense\n",
    "from tensorflow.keras.layers import Dropout"
   ]
  },
  {
   "cell_type": "markdown",
   "metadata": {},
   "source": [
    "Trial summary\n",
    "Hyperparameters:\n",
    "num_layers: 20\n",
    "units_0: 416\n",
    "units_1: 128\n",
    "learning_rate: 0.001\n",
    "units_2: 32\n",
    "units_3: 32\n",
    "units_4: 32\n",
    "units_5: 32\n",
    "units_6: 32\n",
    "units_7: 32\n",
    "units_8: 32\n",
    "units_9: 32\n",
    "units_10: 32\n",
    "units_11: 32\n",
    "units_12: 32\n",
    "units_13: 32\n",
    "units_14: 32\n",
    "units_15: 32\n",
    "units_16: 32\n",
    "units_17: 32\n",
    "units_18: 32\n",
    "units_19: 32\n",
    "Score: 0.8668333292007446"
   ]
  },
  {
   "cell_type": "code",
   "execution_count": 42,
   "metadata": {},
   "outputs": [
    {
     "name": "stdout",
     "output_type": "stream",
     "text": [
      "Model: \"sequential_12\"\n",
      "_________________________________________________________________\n",
      "Layer (type)                 Output Shape              Param #   \n",
      "=================================================================\n",
      "dense_150 (Dense)            (None, 128)               1536      \n",
      "_________________________________________________________________\n",
      "dense_151 (Dense)            (None, 64)                8256      \n",
      "_________________________________________________________________\n",
      "dense_152 (Dense)            (None, 448)               29120     \n",
      "_________________________________________________________________\n",
      "dense_153 (Dense)            (None, 224)               100576    \n",
      "_________________________________________________________________\n",
      "dense_154 (Dense)            (None, 1)                 225       \n",
      "=================================================================\n",
      "Total params: 139,713\n",
      "Trainable params: 139,713\n",
      "Non-trainable params: 0\n",
      "_________________________________________________________________\n",
      "Epoch 1/15\n",
      "54/54 [==============================] - 1s 14ms/step - loss: 0.5896 - accuracy: 0.7602 - val_loss: 0.3991 - val_accuracy: 0.8307\n",
      "Epoch 2/15\n",
      "54/54 [==============================] - 0s 7ms/step - loss: 0.3610 - accuracy: 0.8548 - val_loss: 0.3824 - val_accuracy: 0.8391\n",
      "Epoch 3/15\n",
      "54/54 [==============================] - 0s 7ms/step - loss: 0.3245 - accuracy: 0.8663 - val_loss: 0.4376 - val_accuracy: 0.8319\n",
      "Epoch 4/15\n",
      "54/54 [==============================] - 0s 7ms/step - loss: 0.3310 - accuracy: 0.8620 - val_loss: 0.3879 - val_accuracy: 0.8429\n",
      "Epoch 5/15\n",
      "54/54 [==============================] - 0s 7ms/step - loss: 0.2956 - accuracy: 0.8744 - val_loss: 0.3879 - val_accuracy: 0.8319\n",
      "Epoch 6/15\n",
      "54/54 [==============================] - 0s 7ms/step - loss: 0.2837 - accuracy: 0.8800 - val_loss: 0.3891 - val_accuracy: 0.8360\n",
      "Epoch 7/15\n",
      "54/54 [==============================] - 0s 7ms/step - loss: 0.2776 - accuracy: 0.8813 - val_loss: 0.3924 - val_accuracy: 0.8349\n",
      "Epoch 8/15\n",
      "54/54 [==============================] - 0s 7ms/step - loss: 0.2608 - accuracy: 0.8875 - val_loss: 0.4037 - val_accuracy: 0.8364\n",
      "Epoch 9/15\n",
      "54/54 [==============================] - 1s 10ms/step - loss: 0.2526 - accuracy: 0.8882 - val_loss: 0.4075 - val_accuracy: 0.8311\n",
      "Epoch 10/15\n",
      "54/54 [==============================] - 0s 7ms/step - loss: 0.2328 - accuracy: 0.9073 - val_loss: 0.4260 - val_accuracy: 0.8319\n",
      "Epoch 11/15\n",
      "54/54 [==============================] - 0s 9ms/step - loss: 0.2279 - accuracy: 0.9000 - val_loss: 0.4211 - val_accuracy: 0.8300\n",
      "Epoch 12/15\n",
      "54/54 [==============================] - 1s 11ms/step - loss: 0.2339 - accuracy: 0.8970 - val_loss: 0.4442 - val_accuracy: 0.8319\n",
      "Epoch 13/15\n",
      "54/54 [==============================] - 0s 7ms/step - loss: 0.2153 - accuracy: 0.9048 - val_loss: 0.4582 - val_accuracy: 0.8345\n",
      "Epoch 14/15\n",
      "54/54 [==============================] - 0s 7ms/step - loss: 0.2135 - accuracy: 0.9065 - val_loss: 0.4809 - val_accuracy: 0.8319\n",
      "Epoch 15/15\n",
      "54/54 [==============================] - 0s 7ms/step - loss: 0.1844 - accuracy: 0.9200 - val_loss: 0.4808 - val_accuracy: 0.8342\n"
     ]
    }
   ],
   "source": [
    "\n",
    "classifier = Sequential()\n",
    "\n",
    "classifier.add(Dense(units=128, kernel_initializer='he_uniform', activation='relu', input_dim=11))\n",
    "\n",
    "# the second hidden layer\n",
    "classifier.add(Dense(units=64, kernel_initializer='he_uniform', activation='relu'))\n",
    "classifier.add(Dense(units=448, kernel_initializer='he_uniform', activation='relu'))\n",
    "classifier.add(Dense(units=224, kernel_initializer='he_uniform', activation='relu'))\n",
    "# classifier.add(Dense(units=128, kernel_initializer='he_uniform', activation='relu'))\n",
    "# classifier.add(Dense(units=256, kernel_initializer='he_uniform', activation='relu'))\n",
    "# classifier.add(Dense(units=288, kernel_initializer='he_uniform', activation='relu'))\n",
    "# classifier.add(Dense(units=32, kernel_initializer='he_uniform', activation='relu'))\n",
    "# classifier.add(Dense(units=416, kernel_initializer='he_uniform', activation='relu'))\n",
    "# classifier.add(Dense(units=128, kernel_initializer='he_uniform', activation='relu'))\n",
    "# classifier.add(Dense(units=224, kernel_initializer='he_uniform', activation='relu'))\n",
    "# classifier.add(Dense(units=128, kernel_initializer='he_uniform', activation='relu'))\n",
    "# classifier.add(Dense(units=160, kernel_initializer='he_uniform', activation='relu'))\n",
    "# classifier.add(Dense(units=224, kernel_initializer='he_uniform', activation='relu'))\n",
    "# classifier.add(Dense(units=32, kernel_initializer='he_uniform', activation='relu'))\n",
    "# classifier.add(Dense(units=320, kernel_initializer='he_uniform', activation='relu'))\n",
    "# classifier.add(Dense(units=128, kernel_initializer='he_uniform', activation='relu'))\n",
    "# classifier.add(Dense(units=64, kernel_initializer='he_uniform', activation='relu'))\n",
    "# classifier.add(Dense(units=416, kernel_initializer='he_uniform', activation='relu'))\n",
    "# classifier.add(Dense(units=320, kernel_initializer='he_uniform', activation='relu'))\n",
    "\n",
    "#the output layer as this is a binary final neuron is 1 and as the activation sigmoid means becausse of the classificartion\n",
    "classifier.add(Dense(units=1, kernel_initializer='glorot_uniform', activation='sigmoid'))\n",
    "\n",
    "#optimizer and compiling the model adam as its the best binary crossentropy as the classificatioon model\n",
    "classifier.compile(optimizer= 'adam', loss='binary_crossentropy', metrics=['accuracy'])\n",
    "\n",
    "classifier.summary()\n",
    "\n",
    "model_history = classifier.fit(X_train, y_train, validation_split=0.33, batch_size=100,epochs=15)"
   ]
  },
  {
   "cell_type": "code",
   "execution_count": 43,
   "metadata": {},
   "outputs": [
    {
     "name": "stdout",
     "output_type": "stream",
     "text": [
      "dict_keys(['loss', 'accuracy', 'val_loss', 'val_accuracy'])\n"
     ]
    },
    {
     "data": {
      "application/javascript": [
       "\n",
       "        if (window._pyforest_update_imports_cell) { window._pyforest_update_imports_cell('import matplotlib.pyplot as plt'); }\n",
       "    "
      ],
      "text/plain": [
       "<IPython.core.display.Javascript object>"
      ]
     },
     "metadata": {},
     "output_type": "display_data"
    },
    {
     "data": {
      "application/javascript": [
       "\n",
       "        if (window._pyforest_update_imports_cell) { window._pyforest_update_imports_cell('import matplotlib.pyplot as plt'); }\n",
       "    "
      ],
      "text/plain": [
       "<IPython.core.display.Javascript object>"
      ]
     },
     "metadata": {},
     "output_type": "display_data"
    },
    {
     "data": {
      "application/javascript": [
       "\n",
       "        if (window._pyforest_update_imports_cell) { window._pyforest_update_imports_cell('import matplotlib.pyplot as plt'); }\n",
       "    "
      ],
      "text/plain": [
       "<IPython.core.display.Javascript object>"
      ]
     },
     "metadata": {},
     "output_type": "display_data"
    },
    {
     "data": {
      "application/javascript": [
       "\n",
       "        if (window._pyforest_update_imports_cell) { window._pyforest_update_imports_cell('import matplotlib.pyplot as plt'); }\n",
       "    "
      ],
      "text/plain": [
       "<IPython.core.display.Javascript object>"
      ]
     },
     "metadata": {},
     "output_type": "display_data"
    },
    {
     "data": {
      "application/javascript": [
       "\n",
       "        if (window._pyforest_update_imports_cell) { window._pyforest_update_imports_cell('import matplotlib.pyplot as plt'); }\n",
       "    "
      ],
      "text/plain": [
       "<IPython.core.display.Javascript object>"
      ]
     },
     "metadata": {},
     "output_type": "display_data"
    },
    {
     "data": {
      "application/javascript": [
       "\n",
       "        if (window._pyforest_update_imports_cell) { window._pyforest_update_imports_cell('import matplotlib.pyplot as plt'); }\n",
       "    "
      ],
      "text/plain": [
       "<IPython.core.display.Javascript object>"
      ]
     },
     "metadata": {},
     "output_type": "display_data"
    },
    {
     "data": {
      "application/javascript": [
       "\n",
       "        if (window._pyforest_update_imports_cell) { window._pyforest_update_imports_cell('import matplotlib.pyplot as plt'); }\n",
       "    "
      ],
      "text/plain": [
       "<IPython.core.display.Javascript object>"
      ]
     },
     "metadata": {},
     "output_type": "display_data"
    },
    {
     "data": {
      "image/png": "[encoded data removed]",
      "text/plain": [
       "<Figure size 432x288 with 1 Axes>"
      ]
     },
     "metadata": {
      "needs_background": "light"
     },
     "output_type": "display_data"
    }
   ],
   "source": [
    "# using the histoy keys plot a diagram\n",
    "print(model_history.history.keys())\n",
    "plt.plot(model_history.history['accuracy'])\n",
    "plt.plot(model_history.history['val_accuracy'])\n",
    "plt.title('model_accuracy')\n",
    "plt.ylabel('accuracy')\n",
    "plt.xlabel('epoch')\n",
    "plt.legend(['train', 'test'], loc='upper left')\n",
    "plt.show()"
   ]
  },
  {
   "cell_type": "code",
   "execution_count": 38,
   "metadata": {},
   "outputs": [
    {
     "data": {
      "application/javascript": [
       "\n",
       "        if (window._pyforest_update_imports_cell) { window._pyforest_update_imports_cell('import matplotlib.pyplot as plt'); }\n",
       "    "
      ],
      "text/plain": [
       "<IPython.core.display.Javascript object>"
      ]
     },
     "metadata": {},
     "output_type": "display_data"
    },
    {
     "data": {
      "application/javascript": [
       "\n",
       "        if (window._pyforest_update_imports_cell) { window._pyforest_update_imports_cell('import matplotlib.pyplot as plt'); }\n",
       "    "
      ],
      "text/plain": [
       "<IPython.core.display.Javascript object>"
      ]
     },
     "metadata": {},
     "output_type": "display_data"
    },
    {
     "data": {
      "application/javascript": [
       "\n",
       "        if (window._pyforest_update_imports_cell) { window._pyforest_update_imports_cell('import matplotlib.pyplot as plt'); }\n",
       "    "
      ],
      "text/plain": [
       "<IPython.core.display.Javascript object>"
      ]
     },
     "metadata": {},
     "output_type": "display_data"
    },
    {
     "data": {
      "application/javascript": [
       "\n",
       "        if (window._pyforest_update_imports_cell) { window._pyforest_update_imports_cell('import matplotlib.pyplot as plt'); }\n",
       "    "
      ],
      "text/plain": [
       "<IPython.core.display.Javascript object>"
      ]
     },
     "metadata": {},
     "output_type": "display_data"
    },
    {
     "data": {
      "application/javascript": [
       "\n",
       "        if (window._pyforest_update_imports_cell) { window._pyforest_update_imports_cell('import matplotlib.pyplot as plt'); }\n",
       "    "
      ],
      "text/plain": [
       "<IPython.core.display.Javascript object>"
      ]
     },
     "metadata": {},
     "output_type": "display_data"
    },
    {
     "data": {
      "application/javascript": [
       "\n",
       "        if (window._pyforest_update_imports_cell) { window._pyforest_update_imports_cell('import matplotlib.pyplot as plt'); }\n",
       "    "
      ],
      "text/plain": [
       "<IPython.core.display.Javascript object>"
      ]
     },
     "metadata": {},
     "output_type": "display_data"
    },
    {
     "data": {
      "application/javascript": [
       "\n",
       "        if (window._pyforest_update_imports_cell) { window._pyforest_update_imports_cell('import matplotlib.pyplot as plt'); }\n",
       "    "
      ],
      "text/plain": [
       "<IPython.core.display.Javascript object>"
      ]
     },
     "metadata": {},
     "output_type": "display_data"
    },
    {
     "data": {
      "image/png": "[encoded data removed]",
      "text/plain": [
       "<Figure size 432x288 with 1 Axes>"
      ]
     },
     "metadata": {
      "needs_background": "light"
     },
     "output_type": "display_data"
    }
   ],
   "source": [
    "#geting the loss accuracy\n",
    "plt.plot(model_history.history['loss'])\n",
    "plt.plot(model_history.history['val_loss'])\n",
    "plt.title('model loss')\n",
    "plt.ylabel('loss')\n",
    "plt.xlabel('epoch')\n",
    "plt.legend(['train', 'test'], loc='upper right')\n",
    "plt.show()"
   ]
  },
  {
   "cell_type": "code",
   "execution_count": 39,
   "metadata": {},
   "outputs": [],
   "source": [
    "\n",
    "y_pred = classifier.predict(X_test)\n",
    "\n",
    "#making the condition to get the true or false according to the requirments of the domain\n",
    "y_pred = (y_pred>0.5)\n"
   ]
  },
  {
   "cell_type": "code",
   "execution_count": 40,
   "metadata": {},
   "outputs": [
    {
     "name": "stdout",
     "output_type": "stream",
     "text": [
      "0.853\n",
      "[[1534   61]\n",
      " [ 233  172]]\n"
     ]
    }
   ],
   "source": [
    "#making the confusion matrix \n",
    "from sklearn.metrics import confusion_matrix\n",
    "from sklearn.metrics import accuracy_score\n",
    "\n",
    "score = accuracy_score(y_pred, y_test)\n",
    "cm = confusion_matrix(y_test, y_pred)\n",
    "print(score)\n",
    "print(cm)"
   ]
  },
  {
   "cell_type": "code",
   "execution_count": null,
   "metadata": {},
   "outputs": [],
   "source": []
  }
 ],
 "metadata": {
  "kernelspec": {
   "display_name": "Python 3",
   "language": "python",
   "name": "python3"
  },
  "language_info": {
   "codemirror_mode": {
    "name": "ipython",
    "version": 3
   },
   "file_extension": ".py",
   "mimetype": "text/x-python",
   "name": "python",
   "nbconvert_exporter": "python",
   "pygments_lexer": "ipython3",
   "version": "3.7.6"
  }
 },
 "nbformat": 4,
 "nbformat_minor": 4
}
