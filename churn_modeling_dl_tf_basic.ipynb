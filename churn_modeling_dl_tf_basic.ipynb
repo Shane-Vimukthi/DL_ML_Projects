{
 "cells": [
  {
   "cell_type": "markdown",
   "metadata": {},
   "source": [
    "### ANN With Cutomer Churn Prediction- Classification"
   ]
  },
  {
   "cell_type": "code",
   "execution_count": 2,
   "metadata": {},
   "outputs": [
    {
     "name": "stdout",
     "output_type": "stream",
     "text": [
      "2.2.0\n"
     ]
    }
   ],
   "source": [
    "import tensorflow as tf\n",
    "print(tf.__version__)"
   ]
  },
  {
   "cell_type": "code",
   "execution_count": 3,
   "metadata": {
    "id": "LJ1czPWJml_f"
   },
   "outputs": [],
   "source": [
    "# Part 1 - Data Preprocessing\n",
    "\n",
    "# Importing the libraries\n",
    "import numpy as np\n",
    "import matplotlib.pyplot as plt\n",
    "import pandas as pd"
   ]
  },
  {
   "cell_type": "code",
   "execution_count": 4,
   "metadata": {
    "id": "-H0j08pym5HX"
   },
   "outputs": [],
   "source": [
    "# Importing the dataset\n",
    "dataset = pd.read_csv('Churn_Modelling.csv')\n",
    "X = dataset.iloc[:, 3:13]\n",
    "x = dataset.iloc[:, 3:13]\n",
    "y = dataset.iloc[:, 13]"
   ]
  },
  {
   "cell_type": "code",
   "execution_count": 5,
   "metadata": {},
   "outputs": [
    {
     "data": {
      "text/html": [
       "<div>\n",
       "<style scoped>\n",
       "    .dataframe tbody tr th:only-of-type {\n",
       "        vertical-align: middle;\n",
       "    }\n",
       "\n",
       "    .dataframe tbody tr th {\n",
       "        vertical-align: top;\n",
       "    }\n",
       "\n",
       "    .dataframe thead th {\n",
       "        text-align: right;\n",
       "    }\n",
       "</style>\n",
       "<table border=\"1\" class=\"dataframe\">\n",
       "  <thead>\n",
       "    <tr style=\"text-align: right;\">\n",
       "      <th></th>\n",
       "      <th>RowNumber</th>\n",
       "      <th>CustomerId</th>\n",
       "      <th>Surname</th>\n",
       "      <th>CreditScore</th>\n",
       "      <th>Geography</th>\n",
       "      <th>Gender</th>\n",
       "      <th>Age</th>\n",
       "      <th>Tenure</th>\n",
       "      <th>Balance</th>\n",
       "      <th>NumOfProducts</th>\n",
       "      <th>HasCrCard</th>\n",
       "      <th>IsActiveMember</th>\n",
       "      <th>EstimatedSalary</th>\n",
       "      <th>Exited</th>\n",
       "    </tr>\n",
       "  </thead>\n",
       "  <tbody>\n",
       "    <tr>\n",
       "      <th>0</th>\n",
       "      <td>1</td>\n",
       "      <td>15634602</td>\n",
       "      <td>Hargrave</td>\n",
       "      <td>619</td>\n",
       "      <td>France</td>\n",
       "      <td>Female</td>\n",
       "      <td>42</td>\n",
       "      <td>2</td>\n",
       "      <td>0.00</td>\n",
       "      <td>1</td>\n",
       "      <td>1</td>\n",
       "      <td>1</td>\n",
       "      <td>101348.88</td>\n",
       "      <td>1</td>\n",
       "    </tr>\n",
       "    <tr>\n",
       "      <th>1</th>\n",
       "      <td>2</td>\n",
       "      <td>15647311</td>\n",
       "      <td>Hill</td>\n",
       "      <td>608</td>\n",
       "      <td>Spain</td>\n",
       "      <td>Female</td>\n",
       "      <td>41</td>\n",
       "      <td>1</td>\n",
       "      <td>83807.86</td>\n",
       "      <td>1</td>\n",
       "      <td>0</td>\n",
       "      <td>1</td>\n",
       "      <td>112542.58</td>\n",
       "      <td>0</td>\n",
       "    </tr>\n",
       "    <tr>\n",
       "      <th>2</th>\n",
       "      <td>3</td>\n",
       "      <td>15619304</td>\n",
       "      <td>Onio</td>\n",
       "      <td>502</td>\n",
       "      <td>France</td>\n",
       "      <td>Female</td>\n",
       "      <td>42</td>\n",
       "      <td>8</td>\n",
       "      <td>159660.80</td>\n",
       "      <td>3</td>\n",
       "      <td>1</td>\n",
       "      <td>0</td>\n",
       "      <td>113931.57</td>\n",
       "      <td>1</td>\n",
       "    </tr>\n",
       "    <tr>\n",
       "      <th>3</th>\n",
       "      <td>4</td>\n",
       "      <td>15701354</td>\n",
       "      <td>Boni</td>\n",
       "      <td>699</td>\n",
       "      <td>France</td>\n",
       "      <td>Female</td>\n",
       "      <td>39</td>\n",
       "      <td>1</td>\n",
       "      <td>0.00</td>\n",
       "      <td>2</td>\n",
       "      <td>0</td>\n",
       "      <td>0</td>\n",
       "      <td>93826.63</td>\n",
       "      <td>0</td>\n",
       "    </tr>\n",
       "    <tr>\n",
       "      <th>4</th>\n",
       "      <td>5</td>\n",
       "      <td>15737888</td>\n",
       "      <td>Mitchell</td>\n",
       "      <td>850</td>\n",
       "      <td>Spain</td>\n",
       "      <td>Female</td>\n",
       "      <td>43</td>\n",
       "      <td>2</td>\n",
       "      <td>125510.82</td>\n",
       "      <td>1</td>\n",
       "      <td>1</td>\n",
       "      <td>1</td>\n",
       "      <td>79084.10</td>\n",
       "      <td>0</td>\n",
       "    </tr>\n",
       "  </tbody>\n",
       "</table>\n",
       "</div>"
      ],
      "text/plain": [
       "   RowNumber  CustomerId   Surname  CreditScore Geography  Gender  Age  \\\n",
       "0          1    15634602  Hargrave          619    France  Female   42   \n",
       "1          2    15647311      Hill          608     Spain  Female   41   \n",
       "2          3    15619304      Onio          502    France  Female   42   \n",
       "3          4    15701354      Boni          699    France  Female   39   \n",
       "4          5    15737888  Mitchell          850     Spain  Female   43   \n",
       "\n",
       "   Tenure    Balance  NumOfProducts  HasCrCard  IsActiveMember  \\\n",
       "0       2       0.00              1          1               1   \n",
       "1       1   83807.86              1          0               1   \n",
       "2       8  159660.80              3          1               0   \n",
       "3       1       0.00              2          0               0   \n",
       "4       2  125510.82              1          1               1   \n",
       "\n",
       "   EstimatedSalary  Exited  \n",
       "0        101348.88       1  \n",
       "1        112542.58       0  \n",
       "2        113931.57       1  \n",
       "3         93826.63       0  \n",
       "4         79084.10       0  "
      ]
     },
     "execution_count": 5,
     "metadata": {},
     "output_type": "execute_result"
    }
   ],
   "source": [
    "dataset.head()"
   ]
  },
  {
   "cell_type": "code",
   "execution_count": 6,
   "metadata": {},
   "outputs": [
    {
     "data": {
      "text/plain": [
       "RowNumber          0\n",
       "CustomerId         0\n",
       "Surname            0\n",
       "CreditScore        0\n",
       "Geography          0\n",
       "Gender             0\n",
       "Age                0\n",
       "Tenure             0\n",
       "Balance            0\n",
       "NumOfProducts      0\n",
       "HasCrCard          0\n",
       "IsActiveMember     0\n",
       "EstimatedSalary    0\n",
       "Exited             0\n",
       "dtype: int64"
      ]
     },
     "execution_count": 6,
     "metadata": {},
     "output_type": "execute_result"
    }
   ],
   "source": [
    "# dataset.isnull().sum()\n",
    "dataset.isnull().sum()"
   ]
  },
  {
   "cell_type": "code",
   "execution_count": 7,
   "metadata": {},
   "outputs": [
    {
     "data": {
      "text/html": [
       "<div>\n",
       "<style scoped>\n",
       "    .dataframe tbody tr th:only-of-type {\n",
       "        vertical-align: middle;\n",
       "    }\n",
       "\n",
       "    .dataframe tbody tr th {\n",
       "        vertical-align: top;\n",
       "    }\n",
       "\n",
       "    .dataframe thead th {\n",
       "        text-align: right;\n",
       "    }\n",
       "</style>\n",
       "<table border=\"1\" class=\"dataframe\">\n",
       "  <thead>\n",
       "    <tr style=\"text-align: right;\">\n",
       "      <th></th>\n",
       "      <th>CreditScore</th>\n",
       "      <th>Geography</th>\n",
       "      <th>Gender</th>\n",
       "      <th>Age</th>\n",
       "      <th>Tenure</th>\n",
       "      <th>Balance</th>\n",
       "      <th>NumOfProducts</th>\n",
       "      <th>HasCrCard</th>\n",
       "      <th>IsActiveMember</th>\n",
       "      <th>EstimatedSalary</th>\n",
       "    </tr>\n",
       "  </thead>\n",
       "  <tbody>\n",
       "    <tr>\n",
       "      <th>0</th>\n",
       "      <td>619</td>\n",
       "      <td>France</td>\n",
       "      <td>Female</td>\n",
       "      <td>42</td>\n",
       "      <td>2</td>\n",
       "      <td>0.00</td>\n",
       "      <td>1</td>\n",
       "      <td>1</td>\n",
       "      <td>1</td>\n",
       "      <td>101348.88</td>\n",
       "    </tr>\n",
       "    <tr>\n",
       "      <th>1</th>\n",
       "      <td>608</td>\n",
       "      <td>Spain</td>\n",
       "      <td>Female</td>\n",
       "      <td>41</td>\n",
       "      <td>1</td>\n",
       "      <td>83807.86</td>\n",
       "      <td>1</td>\n",
       "      <td>0</td>\n",
       "      <td>1</td>\n",
       "      <td>112542.58</td>\n",
       "    </tr>\n",
       "    <tr>\n",
       "      <th>2</th>\n",
       "      <td>502</td>\n",
       "      <td>France</td>\n",
       "      <td>Female</td>\n",
       "      <td>42</td>\n",
       "      <td>8</td>\n",
       "      <td>159660.80</td>\n",
       "      <td>3</td>\n",
       "      <td>1</td>\n",
       "      <td>0</td>\n",
       "      <td>113931.57</td>\n",
       "    </tr>\n",
       "    <tr>\n",
       "      <th>3</th>\n",
       "      <td>699</td>\n",
       "      <td>France</td>\n",
       "      <td>Female</td>\n",
       "      <td>39</td>\n",
       "      <td>1</td>\n",
       "      <td>0.00</td>\n",
       "      <td>2</td>\n",
       "      <td>0</td>\n",
       "      <td>0</td>\n",
       "      <td>93826.63</td>\n",
       "    </tr>\n",
       "    <tr>\n",
       "      <th>4</th>\n",
       "      <td>850</td>\n",
       "      <td>Spain</td>\n",
       "      <td>Female</td>\n",
       "      <td>43</td>\n",
       "      <td>2</td>\n",
       "      <td>125510.82</td>\n",
       "      <td>1</td>\n",
       "      <td>1</td>\n",
       "      <td>1</td>\n",
       "      <td>79084.10</td>\n",
       "    </tr>\n",
       "  </tbody>\n",
       "</table>\n",
       "</div>"
      ],
      "text/plain": [
       "   CreditScore Geography  Gender  Age  Tenure    Balance  NumOfProducts  \\\n",
       "0          619    France  Female   42       2       0.00              1   \n",
       "1          608     Spain  Female   41       1   83807.86              1   \n",
       "2          502    France  Female   42       8  159660.80              3   \n",
       "3          699    France  Female   39       1       0.00              2   \n",
       "4          850     Spain  Female   43       2  125510.82              1   \n",
       "\n",
       "   HasCrCard  IsActiveMember  EstimatedSalary  \n",
       "0          1               1        101348.88  \n",
       "1          0               1        112542.58  \n",
       "2          1               0        113931.57  \n",
       "3          0               0         93826.63  \n",
       "4          1               1         79084.10  "
      ]
     },
     "execution_count": 7,
     "metadata": {},
     "output_type": "execute_result"
    }
   ],
   "source": [
    "X.head()"
   ]
  },
  {
   "cell_type": "code",
   "execution_count": 8,
   "metadata": {},
   "outputs": [
    {
     "data": {
      "text/plain": [
       "0    1\n",
       "1    0\n",
       "2    1\n",
       "3    0\n",
       "4    0\n",
       "Name: Exited, dtype: int64"
      ]
     },
     "execution_count": 8,
     "metadata": {},
     "output_type": "execute_result"
    }
   ],
   "source": [
    "y.head()"
   ]
  },
  {
   "cell_type": "code",
   "execution_count": 9,
   "metadata": {
    "id": "N9QNTLkJm8tm"
   },
   "outputs": [],
   "source": [
    "#Create dummy variables as the model cannot understand the strinngs\n",
    "# geography=pd.get_dummies(X[\"Geography\"],drop_first=True)\n",
    "geography = pd.get_dummies(X['Geography'], drop_first = True)\n",
    "gender = pd.get_dummies(X['Gender'], drop_first = True)\n",
    "# gender=pd.get_dummies(X['Gender'],drop_first=True)\n"
   ]
  },
  {
   "cell_type": "code",
   "execution_count": 10,
   "metadata": {},
   "outputs": [
    {
     "data": {
      "text/html": [
       "<div>\n",
       "<style scoped>\n",
       "    .dataframe tbody tr th:only-of-type {\n",
       "        vertical-align: middle;\n",
       "    }\n",
       "\n",
       "    .dataframe tbody tr th {\n",
       "        vertical-align: top;\n",
       "    }\n",
       "\n",
       "    .dataframe thead th {\n",
       "        text-align: right;\n",
       "    }\n",
       "</style>\n",
       "<table border=\"1\" class=\"dataframe\">\n",
       "  <thead>\n",
       "    <tr style=\"text-align: right;\">\n",
       "      <th></th>\n",
       "      <th>Male</th>\n",
       "    </tr>\n",
       "  </thead>\n",
       "  <tbody>\n",
       "    <tr>\n",
       "      <th>0</th>\n",
       "      <td>0</td>\n",
       "    </tr>\n",
       "    <tr>\n",
       "      <th>1</th>\n",
       "      <td>0</td>\n",
       "    </tr>\n",
       "    <tr>\n",
       "      <th>2</th>\n",
       "      <td>0</td>\n",
       "    </tr>\n",
       "    <tr>\n",
       "      <th>3</th>\n",
       "      <td>0</td>\n",
       "    </tr>\n",
       "    <tr>\n",
       "      <th>4</th>\n",
       "      <td>0</td>\n",
       "    </tr>\n",
       "    <tr>\n",
       "      <th>...</th>\n",
       "      <td>...</td>\n",
       "    </tr>\n",
       "    <tr>\n",
       "      <th>9995</th>\n",
       "      <td>1</td>\n",
       "    </tr>\n",
       "    <tr>\n",
       "      <th>9996</th>\n",
       "      <td>1</td>\n",
       "    </tr>\n",
       "    <tr>\n",
       "      <th>9997</th>\n",
       "      <td>0</td>\n",
       "    </tr>\n",
       "    <tr>\n",
       "      <th>9998</th>\n",
       "      <td>1</td>\n",
       "    </tr>\n",
       "    <tr>\n",
       "      <th>9999</th>\n",
       "      <td>0</td>\n",
       "    </tr>\n",
       "  </tbody>\n",
       "</table>\n",
       "<p>10000 rows × 1 columns</p>\n",
       "</div>"
      ],
      "text/plain": [
       "      Male\n",
       "0        0\n",
       "1        0\n",
       "2        0\n",
       "3        0\n",
       "4        0\n",
       "...    ...\n",
       "9995     1\n",
       "9996     1\n",
       "9997     0\n",
       "9998     1\n",
       "9999     0\n",
       "\n",
       "[10000 rows x 1 columns]"
      ]
     },
     "execution_count": 10,
     "metadata": {},
     "output_type": "execute_result"
    }
   ],
   "source": [
    "gender"
   ]
  },
  {
   "cell_type": "code",
   "execution_count": 11,
   "metadata": {
    "id": "rbNc5sLHnAdP"
   },
   "outputs": [],
   "source": [
    "## Concatenate the Data Frames of the above \n",
    "X = pd.concat([X, geography, gender], axis=1)\n",
    "# as the above features aded we are going to delete the cat variables\n",
    "X =X.drop(['Geography', 'Gender'], axis=1)\n",
    "\n"
   ]
  },
  {
   "cell_type": "code",
   "execution_count": 12,
   "metadata": {},
   "outputs": [
    {
     "data": {
      "text/plain": [
       "(10000, 11)"
      ]
     },
     "execution_count": 12,
     "metadata": {},
     "output_type": "execute_result"
    }
   ],
   "source": [
    "#check the shape of the feature set\n",
    "X.shape"
   ]
  },
  {
   "cell_type": "code",
   "execution_count": 13,
   "metadata": {},
   "outputs": [
    {
     "data": {
      "text/html": [
       "<div>\n",
       "<style scoped>\n",
       "    .dataframe tbody tr th:only-of-type {\n",
       "        vertical-align: middle;\n",
       "    }\n",
       "\n",
       "    .dataframe tbody tr th {\n",
       "        vertical-align: top;\n",
       "    }\n",
       "\n",
       "    .dataframe thead th {\n",
       "        text-align: right;\n",
       "    }\n",
       "</style>\n",
       "<table border=\"1\" class=\"dataframe\">\n",
       "  <thead>\n",
       "    <tr style=\"text-align: right;\">\n",
       "      <th></th>\n",
       "      <th>CreditScore</th>\n",
       "      <th>Age</th>\n",
       "      <th>Tenure</th>\n",
       "      <th>Balance</th>\n",
       "      <th>NumOfProducts</th>\n",
       "      <th>HasCrCard</th>\n",
       "      <th>IsActiveMember</th>\n",
       "      <th>EstimatedSalary</th>\n",
       "      <th>Germany</th>\n",
       "      <th>Spain</th>\n",
       "      <th>Male</th>\n",
       "    </tr>\n",
       "  </thead>\n",
       "  <tbody>\n",
       "    <tr>\n",
       "      <th>0</th>\n",
       "      <td>619</td>\n",
       "      <td>42</td>\n",
       "      <td>2</td>\n",
       "      <td>0.00</td>\n",
       "      <td>1</td>\n",
       "      <td>1</td>\n",
       "      <td>1</td>\n",
       "      <td>101348.88</td>\n",
       "      <td>0</td>\n",
       "      <td>0</td>\n",
       "      <td>0</td>\n",
       "    </tr>\n",
       "    <tr>\n",
       "      <th>1</th>\n",
       "      <td>608</td>\n",
       "      <td>41</td>\n",
       "      <td>1</td>\n",
       "      <td>83807.86</td>\n",
       "      <td>1</td>\n",
       "      <td>0</td>\n",
       "      <td>1</td>\n",
       "      <td>112542.58</td>\n",
       "      <td>0</td>\n",
       "      <td>1</td>\n",
       "      <td>0</td>\n",
       "    </tr>\n",
       "    <tr>\n",
       "      <th>2</th>\n",
       "      <td>502</td>\n",
       "      <td>42</td>\n",
       "      <td>8</td>\n",
       "      <td>159660.80</td>\n",
       "      <td>3</td>\n",
       "      <td>1</td>\n",
       "      <td>0</td>\n",
       "      <td>113931.57</td>\n",
       "      <td>0</td>\n",
       "      <td>0</td>\n",
       "      <td>0</td>\n",
       "    </tr>\n",
       "    <tr>\n",
       "      <th>3</th>\n",
       "      <td>699</td>\n",
       "      <td>39</td>\n",
       "      <td>1</td>\n",
       "      <td>0.00</td>\n",
       "      <td>2</td>\n",
       "      <td>0</td>\n",
       "      <td>0</td>\n",
       "      <td>93826.63</td>\n",
       "      <td>0</td>\n",
       "      <td>0</td>\n",
       "      <td>0</td>\n",
       "    </tr>\n",
       "    <tr>\n",
       "      <th>4</th>\n",
       "      <td>850</td>\n",
       "      <td>43</td>\n",
       "      <td>2</td>\n",
       "      <td>125510.82</td>\n",
       "      <td>1</td>\n",
       "      <td>1</td>\n",
       "      <td>1</td>\n",
       "      <td>79084.10</td>\n",
       "      <td>0</td>\n",
       "      <td>1</td>\n",
       "      <td>0</td>\n",
       "    </tr>\n",
       "  </tbody>\n",
       "</table>\n",
       "</div>"
      ],
      "text/plain": [
       "   CreditScore  Age  Tenure    Balance  NumOfProducts  HasCrCard  \\\n",
       "0          619   42       2       0.00              1          1   \n",
       "1          608   41       1   83807.86              1          0   \n",
       "2          502   42       8  159660.80              3          1   \n",
       "3          699   39       1       0.00              2          0   \n",
       "4          850   43       2  125510.82              1          1   \n",
       "\n",
       "   IsActiveMember  EstimatedSalary  Germany  Spain  Male  \n",
       "0               1        101348.88        0      0     0  \n",
       "1               1        112542.58        0      1     0  \n",
       "2               0        113931.57        0      0     0  \n",
       "3               0         93826.63        0      0     0  \n",
       "4               1         79084.10        0      1     0  "
      ]
     },
     "execution_count": 13,
     "metadata": {},
     "output_type": "execute_result"
    }
   ],
   "source": [
    "X.head()"
   ]
  },
  {
   "cell_type": "code",
   "execution_count": 14,
   "metadata": {
    "id": "YkYOlHPAnDz_"
   },
   "outputs": [],
   "source": [
    "# Splitting the dataset into the Training set and Test set \n",
    "from sklearn.model_selection import train_test_split\n",
    "X_train, X_test, y_train, y_test = train_test_split(X, y, test_size = 0.2, random_state = 0)\n",
    "# in here the train set is 80% and the test set is 20%"
   ]
  },
  {
   "cell_type": "code",
   "execution_count": 15,
   "metadata": {
    "id": "cP2vl1p9nGyj"
   },
   "outputs": [],
   "source": [
    "# Feature Scaling we are doing this inorder to reduce the computation power of the gradient dcent as the values \n",
    "# get small the curve is small in size and etc mean =0 and std dev 1\n",
    "from sklearn.preprocessing import StandardScaler\n",
    "scaler = StandardScaler()\n",
    "\n",
    "X_train = scaler.fit_transform(X_train) # doing transform as the values are changing\n",
    "X_test = scaler.transform(X_test)\n",
    "#scaler model is created and the fit transform is done to train data set and the for x test data set we are not going\n",
    "# to do fit angain with taking test data as new set and change accordingly\n",
    "# reduce overfitting and data leakage- giving question paper before exam"
   ]
  },
  {
   "cell_type": "code",
   "execution_count": 16,
   "metadata": {},
   "outputs": [
    {
     "data": {
      "text/plain": [
       "array([[ 0.16958176, -0.46460796,  0.00666099, ..., -0.5698444 ,\n",
       "         1.74309049, -1.09168714],\n",
       "       [-2.30455945,  0.30102557, -1.37744033, ...,  1.75486502,\n",
       "        -0.57369368,  0.91601335],\n",
       "       [-1.19119591, -0.94312892, -1.031415  , ..., -0.5698444 ,\n",
       "        -0.57369368, -1.09168714],\n",
       "       ...,\n",
       "       [ 0.9015152 , -0.36890377,  0.00666099, ..., -0.5698444 ,\n",
       "        -0.57369368,  0.91601335],\n",
       "       [-0.62420521, -0.08179119,  1.39076231, ..., -0.5698444 ,\n",
       "         1.74309049, -1.09168714],\n",
       "       [-0.28401079,  0.87525072, -1.37744033, ...,  1.75486502,\n",
       "        -0.57369368, -1.09168714]])"
      ]
     },
     "execution_count": 16,
     "metadata": {},
     "output_type": "execute_result"
    }
   ],
   "source": [
    "X_train"
   ]
  },
  {
   "cell_type": "code",
   "execution_count": 17,
   "metadata": {
    "scrolled": true
   },
   "outputs": [
    {
     "data": {
      "text/plain": [
       "array([[-0.55204276, -0.36890377,  1.04473698, ...,  1.75486502,\n",
       "        -0.57369368, -1.09168714],\n",
       "       [-1.31490297,  0.10961719, -1.031415  , ..., -0.5698444 ,\n",
       "        -0.57369368, -1.09168714],\n",
       "       [ 0.57162971,  0.30102557,  1.04473698, ..., -0.5698444 ,\n",
       "         1.74309049, -1.09168714],\n",
       "       ...,\n",
       "       [-0.74791227, -0.27319958, -1.37744033, ..., -0.5698444 ,\n",
       "         1.74309049,  0.91601335],\n",
       "       [-0.00566991, -0.46460796, -0.33936434, ...,  1.75486502,\n",
       "        -0.57369368,  0.91601335],\n",
       "       [-0.79945688, -0.84742473,  1.04473698, ...,  1.75486502,\n",
       "        -0.57369368,  0.91601335]])"
      ]
     },
     "execution_count": 17,
     "metadata": {},
     "output_type": "execute_result"
    }
   ],
   "source": [
    "X_test"
   ]
  },
  {
   "cell_type": "markdown",
   "metadata": {},
   "source": [
    "# tensorflow"
   ]
  },
  {
   "cell_type": "code",
   "execution_count": 18,
   "metadata": {},
   "outputs": [
    {
     "name": "stdout",
     "output_type": "stream",
     "text": [
      "2.2.0\n"
     ]
    }
   ],
   "source": [
    "import tensorflow\n",
    "print(tensorflow.__version__)"
   ]
  },
  {
   "cell_type": "code",
   "execution_count": 19,
   "metadata": {
    "id": "9cazFt9anJYm"
   },
   "outputs": [],
   "source": [
    "# Part 2 - Now let's make the ANN!\n",
    "\n",
    "# Importing the Keras libraries and packages\n",
    "import tensorflow.keras\n",
    "from tensorflow.keras.models import Sequential\n",
    "from tensorflow.keras.layers import Dense\n",
    "from tensorflow.keras.layers import Dropout"
   ]
  },
  {
   "cell_type": "code",
   "execution_count": 20,
   "metadata": {},
   "outputs": [],
   "source": [
    "#initialising the ANN as sequential makes the model forward and backward propagation\n",
    "classifier = Sequential()\n",
    "\n",
    "# the input layer of and the first hidden layer \n",
    "# whenever use relu best weight initializer is he uniform, input_dim is 11 because the no of features is 11\n",
    "classifier.add(Dense(units=10, kernel_initializer='he_uniform', activation='relu', input_dim=11))\n",
    "\n",
    "# the second hidden layer\n",
    "classifier.add(Dense(units=10, kernel_initializer='he_uniform', activation='relu'))\n",
    "\n",
    "#the output layer as this is a binary final neuron is 1 and as the activation sigmoid means becausse of the classificartion\n",
    "classifier.add(Dense(units=1, kernel_initializer='glorot_uniform', activation='sigmoid'))\n",
    "\n",
    "#optimizer and compiling the model adam as its the best binary crossentropy as the classificatioon model\n",
    "classifier.compile(optimizer= 'adam', loss='binary_crossentropy', metrics=['accuracy'])"
   ]
  },
  {
   "cell_type": "code",
   "execution_count": 21,
   "metadata": {},
   "outputs": [
    {
     "name": "stdout",
     "output_type": "stream",
     "text": [
      "Model: \"sequential\"\n",
      "_________________________________________________________________\n",
      "Layer (type)                 Output Shape              Param #   \n",
      "=================================================================\n",
      "dense (Dense)                (None, 10)                120       \n",
      "_________________________________________________________________\n",
      "dense_1 (Dense)              (None, 10)                110       \n",
      "_________________________________________________________________\n",
      "dense_2 (Dense)              (None, 1)                 11        \n",
      "=================================================================\n",
      "Total params: 241\n",
      "Trainable params: 241\n",
      "Non-trainable params: 0\n",
      "_________________________________________________________________\n"
     ]
    }
   ],
   "source": [
    "classifier.summary()\n",
    "# how many weights and biases"
   ]
  },
  {
   "cell_type": "code",
   "execution_count": 22,
   "metadata": {},
   "outputs": [
    {
     "data": {
      "text/plain": [
       "(8000, 11)"
      ]
     },
     "execution_count": 22,
     "metadata": {},
     "output_type": "execute_result"
    }
   ],
   "source": [
    "X_train.shape"
   ]
  },
  {
   "cell_type": "code",
   "execution_count": 23,
   "metadata": {},
   "outputs": [
    {
     "name": "stdout",
     "output_type": "stream",
     "text": [
      "Epoch 1/100\n",
      "54/54 [==============================] - 2s 30ms/step - loss: 0.7193 - accuracy: 0.5773 - val_loss: 0.5929 - val_accuracy: 0.6891\n",
      "Epoch 2/100\n",
      "54/54 [==============================] - 1s 25ms/step - loss: 0.5316 - accuracy: 0.7445 - val_loss: 0.5076 - val_accuracy: 0.7630\n",
      "Epoch 3/100\n",
      "54/54 [==============================] - 2s 36ms/step - loss: 0.4872 - accuracy: 0.7854 - val_loss: 0.4839 - val_accuracy: 0.7846\n",
      "Epoch 4/100\n",
      "54/54 [==============================] - 2s 28ms/step - loss: 0.4717 - accuracy: 0.7953 - val_loss: 0.4724 - val_accuracy: 0.7876\n",
      "Epoch 5/100\n",
      "54/54 [==============================] - 1s 25ms/step - loss: 0.4619 - accuracy: 0.7992 - val_loss: 0.4638 - val_accuracy: 0.7891\n",
      "Epoch 6/100\n",
      "54/54 [==============================] - 1s 27ms/step - loss: 0.4541 - accuracy: 0.8026 - val_loss: 0.4573 - val_accuracy: 0.7899\n",
      "Epoch 7/100\n",
      "54/54 [==============================] - 1s 19ms/step - loss: 0.4477 - accuracy: 0.8080 - val_loss: 0.4513 - val_accuracy: 0.7963\n",
      "Epoch 8/100\n",
      "54/54 [==============================] - 1s 25ms/step - loss: 0.4421 - accuracy: 0.8097 - val_loss: 0.4460 - val_accuracy: 0.7959\n",
      "Epoch 9/100\n",
      "54/54 [==============================] - 1s 24ms/step - loss: 0.4368 - accuracy: 0.8097 - val_loss: 0.4409 - val_accuracy: 0.7982\n",
      "Epoch 10/100\n",
      "54/54 [==============================] - 1s 26ms/step - loss: 0.4316 - accuracy: 0.8127 - val_loss: 0.4367 - val_accuracy: 0.8046\n",
      "Epoch 11/100\n",
      "54/54 [==============================] - 1s 22ms/step - loss: 0.4270 - accuracy: 0.8141 - val_loss: 0.4327 - val_accuracy: 0.8073\n",
      "Epoch 12/100\n",
      "54/54 [==============================] - 1s 24ms/step - loss: 0.4226 - accuracy: 0.8168 - val_loss: 0.4287 - val_accuracy: 0.8073\n",
      "Epoch 13/100\n",
      "54/54 [==============================] - 1s 23ms/step - loss: 0.4184 - accuracy: 0.8179 - val_loss: 0.4249 - val_accuracy: 0.8095\n",
      "Epoch 14/100\n",
      "54/54 [==============================] - 1s 24ms/step - loss: 0.4145 - accuracy: 0.8203 - val_loss: 0.4215 - val_accuracy: 0.8111\n",
      "Epoch 15/100\n",
      "54/54 [==============================] - 1s 22ms/step - loss: 0.4106 - accuracy: 0.8218 - val_loss: 0.4176 - val_accuracy: 0.8122\n",
      "Epoch 16/100\n",
      "54/54 [==============================] - 1s 24ms/step - loss: 0.4064 - accuracy: 0.8252 - val_loss: 0.4136 - val_accuracy: 0.8152\n",
      "Epoch 17/100\n",
      "54/54 [==============================] - 1s 26ms/step - loss: 0.4022 - accuracy: 0.8281 - val_loss: 0.4096 - val_accuracy: 0.8179\n",
      "Epoch 18/100\n",
      "54/54 [==============================] - 1s 21ms/step - loss: 0.3979 - accuracy: 0.8300 - val_loss: 0.4053 - val_accuracy: 0.8201\n",
      "Epoch 19/100\n",
      "54/54 [==============================] - 1s 13ms/step - loss: 0.3937 - accuracy: 0.8336 - val_loss: 0.4017 - val_accuracy: 0.8201\n",
      "Epoch 20/100\n",
      "54/54 [==============================] - 1s 14ms/step - loss: 0.3900 - accuracy: 0.8349 - val_loss: 0.3979 - val_accuracy: 0.8224\n",
      "Epoch 21/100\n",
      "54/54 [==============================] - 1s 14ms/step - loss: 0.3860 - accuracy: 0.8367 - val_loss: 0.3944 - val_accuracy: 0.8270\n",
      "Epoch 22/100\n",
      "54/54 [==============================] - 1s 12ms/step - loss: 0.3825 - accuracy: 0.8369 - val_loss: 0.3913 - val_accuracy: 0.8296\n",
      "Epoch 23/100\n",
      "54/54 [==============================] - 1s 13ms/step - loss: 0.3788 - accuracy: 0.8391 - val_loss: 0.3884 - val_accuracy: 0.8334\n",
      "Epoch 24/100\n",
      "54/54 [==============================] - 1s 12ms/step - loss: 0.3755 - accuracy: 0.8403 - val_loss: 0.3857 - val_accuracy: 0.8338\n",
      "Epoch 25/100\n",
      "54/54 [==============================] - 1s 12ms/step - loss: 0.3723 - accuracy: 0.8412 - val_loss: 0.3836 - val_accuracy: 0.8345\n",
      "Epoch 26/100\n",
      "54/54 [==============================] - 1s 12ms/step - loss: 0.3697 - accuracy: 0.8431 - val_loss: 0.3818 - val_accuracy: 0.8368\n",
      "Epoch 27/100\n",
      "54/54 [==============================] - 1s 13ms/step - loss: 0.3673 - accuracy: 0.8446 - val_loss: 0.3798 - val_accuracy: 0.8395\n",
      "Epoch 28/100\n",
      "54/54 [==============================] - 1s 14ms/step - loss: 0.3651 - accuracy: 0.8453 - val_loss: 0.3786 - val_accuracy: 0.8364\n",
      "Epoch 29/100\n",
      "54/54 [==============================] - 1s 12ms/step - loss: 0.3633 - accuracy: 0.8453 - val_loss: 0.3774 - val_accuracy: 0.8368\n",
      "Epoch 30/100\n",
      "54/54 [==============================] - 1s 11ms/step - loss: 0.3615 - accuracy: 0.8461 - val_loss: 0.3765 - val_accuracy: 0.8368\n",
      "Epoch 31/100\n",
      "54/54 [==============================] - 1s 12ms/step - loss: 0.3600 - accuracy: 0.8472 - val_loss: 0.3755 - val_accuracy: 0.8372\n",
      "Epoch 32/100\n",
      "54/54 [==============================] - 1s 11ms/step - loss: 0.3584 - accuracy: 0.8475 - val_loss: 0.3747 - val_accuracy: 0.8357\n",
      "Epoch 33/100\n",
      "54/54 [==============================] - 1s 12ms/step - loss: 0.3570 - accuracy: 0.8489 - val_loss: 0.3738 - val_accuracy: 0.8387\n",
      "Epoch 34/100\n",
      "54/54 [==============================] - 1s 13ms/step - loss: 0.3556 - accuracy: 0.8500 - val_loss: 0.3734 - val_accuracy: 0.8387\n",
      "Epoch 35/100\n",
      "54/54 [==============================] - 1s 12ms/step - loss: 0.3544 - accuracy: 0.8502 - val_loss: 0.3724 - val_accuracy: 0.8410\n",
      "Epoch 36/100\n",
      "54/54 [==============================] - 1s 12ms/step - loss: 0.3531 - accuracy: 0.8520 - val_loss: 0.3721 - val_accuracy: 0.8413\n",
      "Epoch 37/100\n",
      "54/54 [==============================] - 1s 12ms/step - loss: 0.3518 - accuracy: 0.8539 - val_loss: 0.3717 - val_accuracy: 0.8425\n",
      "Epoch 38/100\n",
      "54/54 [==============================] - 1s 10ms/step - loss: 0.3510 - accuracy: 0.8518 - val_loss: 0.3710 - val_accuracy: 0.8413\n",
      "Epoch 39/100\n",
      "54/54 [==============================] - 1s 10ms/step - loss: 0.3498 - accuracy: 0.8543 - val_loss: 0.3704 - val_accuracy: 0.8440\n",
      "Epoch 40/100\n",
      "54/54 [==============================] - 1s 12ms/step - loss: 0.3487 - accuracy: 0.8559 - val_loss: 0.3701 - val_accuracy: 0.8421\n",
      "Epoch 41/100\n",
      "54/54 [==============================] - 1s 10ms/step - loss: 0.3483 - accuracy: 0.8545 - val_loss: 0.3701 - val_accuracy: 0.8410\n",
      "Epoch 42/100\n",
      "54/54 [==============================] - 1s 10ms/step - loss: 0.3467 - accuracy: 0.8571 - val_loss: 0.3691 - val_accuracy: 0.8440\n",
      "Epoch 43/100\n",
      "54/54 [==============================] - 1s 14ms/step - loss: 0.3458 - accuracy: 0.8580 - val_loss: 0.3684 - val_accuracy: 0.8432\n",
      "Epoch 44/100\n",
      "54/54 [==============================] - 1s 11ms/step - loss: 0.3445 - accuracy: 0.8591 - val_loss: 0.3681 - val_accuracy: 0.8432\n",
      "Epoch 45/100\n",
      "54/54 [==============================] - 0s 9ms/step - loss: 0.3440 - accuracy: 0.8582 - val_loss: 0.3681 - val_accuracy: 0.8425\n",
      "Epoch 46/100\n",
      "54/54 [==============================] - 0s 8ms/step - loss: 0.3427 - accuracy: 0.8597 - val_loss: 0.3672 - val_accuracy: 0.8436\n",
      "Epoch 47/100\n",
      "54/54 [==============================] - 1s 14ms/step - loss: 0.3421 - accuracy: 0.8597 - val_loss: 0.3668 - val_accuracy: 0.8425\n",
      "Epoch 48/100\n",
      "54/54 [==============================] - 1s 11ms/step - loss: 0.3411 - accuracy: 0.8599 - val_loss: 0.3665 - val_accuracy: 0.8421\n",
      "Epoch 49/100\n",
      "54/54 [==============================] - 1s 11ms/step - loss: 0.3404 - accuracy: 0.8610 - val_loss: 0.3663 - val_accuracy: 0.8432\n",
      "Epoch 50/100\n",
      "54/54 [==============================] - 1s 12ms/step - loss: 0.3396 - accuracy: 0.8604 - val_loss: 0.3660 - val_accuracy: 0.8436\n",
      "Epoch 51/100\n",
      "54/54 [==============================] - 1s 14ms/step - loss: 0.3386 - accuracy: 0.8612 - val_loss: 0.3657 - val_accuracy: 0.8466\n",
      "Epoch 52/100\n",
      "54/54 [==============================] - 1s 10ms/step - loss: 0.3386 - accuracy: 0.8595 - val_loss: 0.3655 - val_accuracy: 0.8466\n",
      "Epoch 53/100\n",
      "54/54 [==============================] - 1s 13ms/step - loss: 0.3373 - accuracy: 0.8599 - val_loss: 0.3653 - val_accuracy: 0.8459\n",
      "Epoch 54/100\n",
      "54/54 [==============================] - 1s 9ms/step - loss: 0.3368 - accuracy: 0.8599 - val_loss: 0.3650 - val_accuracy: 0.8455\n",
      "Epoch 55/100\n",
      "54/54 [==============================] - 1s 12ms/step - loss: 0.3364 - accuracy: 0.8617 - val_loss: 0.3652 - val_accuracy: 0.8466\n",
      "Epoch 56/100\n",
      "54/54 [==============================] - 1s 10ms/step - loss: 0.3357 - accuracy: 0.8606 - val_loss: 0.3646 - val_accuracy: 0.8466\n",
      "Epoch 57/100\n",
      "54/54 [==============================] - 1s 10ms/step - loss: 0.3352 - accuracy: 0.8621 - val_loss: 0.3649 - val_accuracy: 0.8474\n",
      "Epoch 58/100\n"
     ]
    },
    {
     "name": "stdout",
     "output_type": "stream",
     "text": [
      "54/54 [==============================] - 1s 14ms/step - loss: 0.3349 - accuracy: 0.8627 - val_loss: 0.3644 - val_accuracy: 0.8478\n",
      "Epoch 59/100\n",
      "54/54 [==============================] - 0s 9ms/step - loss: 0.3342 - accuracy: 0.8621 - val_loss: 0.3645 - val_accuracy: 0.8470\n",
      "Epoch 60/100\n",
      "54/54 [==============================] - 0s 7ms/step - loss: 0.3341 - accuracy: 0.8636 - val_loss: 0.3644 - val_accuracy: 0.8482\n",
      "Epoch 61/100\n",
      "54/54 [==============================] - 1s 10ms/step - loss: 0.3335 - accuracy: 0.8621 - val_loss: 0.3642 - val_accuracy: 0.8482\n",
      "Epoch 62/100\n",
      "54/54 [==============================] - 1s 10ms/step - loss: 0.3329 - accuracy: 0.8642 - val_loss: 0.3642 - val_accuracy: 0.8485\n",
      "Epoch 63/100\n",
      "54/54 [==============================] - 1s 13ms/step - loss: 0.3322 - accuracy: 0.8638 - val_loss: 0.3639 - val_accuracy: 0.8489\n",
      "Epoch 64/100\n",
      "54/54 [==============================] - 1s 12ms/step - loss: 0.3319 - accuracy: 0.8642 - val_loss: 0.3639 - val_accuracy: 0.8489\n",
      "Epoch 65/100\n",
      "54/54 [==============================] - 1s 9ms/step - loss: 0.3319 - accuracy: 0.8647 - val_loss: 0.3638 - val_accuracy: 0.8482\n",
      "Epoch 66/100\n",
      "54/54 [==============================] - 0s 8ms/step - loss: 0.3313 - accuracy: 0.8642 - val_loss: 0.3637 - val_accuracy: 0.8485\n",
      "Epoch 67/100\n",
      "54/54 [==============================] - 0s 7ms/step - loss: 0.3311 - accuracy: 0.8649 - val_loss: 0.3635 - val_accuracy: 0.8485\n",
      "Epoch 68/100\n",
      "54/54 [==============================] - 1s 15ms/step - loss: 0.3307 - accuracy: 0.8651 - val_loss: 0.3638 - val_accuracy: 0.8482\n",
      "Epoch 69/100\n",
      "54/54 [==============================] - 1s 12ms/step - loss: 0.3308 - accuracy: 0.8642 - val_loss: 0.3634 - val_accuracy: 0.8497\n",
      "Epoch 70/100\n",
      "54/54 [==============================] - 1s 13ms/step - loss: 0.3306 - accuracy: 0.8649 - val_loss: 0.3637 - val_accuracy: 0.8478\n",
      "Epoch 71/100\n",
      "54/54 [==============================] - 1s 11ms/step - loss: 0.3305 - accuracy: 0.8634 - val_loss: 0.3638 - val_accuracy: 0.8478\n",
      "Epoch 72/100\n",
      "54/54 [==============================] - 0s 8ms/step - loss: 0.3299 - accuracy: 0.8660 - val_loss: 0.3632 - val_accuracy: 0.8497\n",
      "Epoch 73/100\n",
      "54/54 [==============================] - 0s 9ms/step - loss: 0.3300 - accuracy: 0.8645 - val_loss: 0.3632 - val_accuracy: 0.8482\n",
      "Epoch 74/100\n",
      "54/54 [==============================] - 1s 11ms/step - loss: 0.3301 - accuracy: 0.8647 - val_loss: 0.3632 - val_accuracy: 0.8478\n",
      "Epoch 75/100\n",
      "54/54 [==============================] - 1s 12ms/step - loss: 0.3296 - accuracy: 0.8649 - val_loss: 0.3629 - val_accuracy: 0.8489\n",
      "Epoch 76/100\n",
      "54/54 [==============================] - 1s 12ms/step - loss: 0.3292 - accuracy: 0.8636 - val_loss: 0.3633 - val_accuracy: 0.8493\n",
      "Epoch 77/100\n",
      "54/54 [==============================] - 1s 13ms/step - loss: 0.3289 - accuracy: 0.8632 - val_loss: 0.3624 - val_accuracy: 0.8497\n",
      "Epoch 78/100\n",
      "54/54 [==============================] - 1s 12ms/step - loss: 0.3289 - accuracy: 0.8632 - val_loss: 0.3625 - val_accuracy: 0.8493\n",
      "Epoch 79/100\n",
      "54/54 [==============================] - 1s 12ms/step - loss: 0.3285 - accuracy: 0.8642 - val_loss: 0.3622 - val_accuracy: 0.8497\n",
      "Epoch 80/100\n",
      "54/54 [==============================] - 1s 11ms/step - loss: 0.3282 - accuracy: 0.8649 - val_loss: 0.3623 - val_accuracy: 0.8493\n",
      "Epoch 81/100\n",
      "54/54 [==============================] - 1s 10ms/step - loss: 0.3284 - accuracy: 0.8632 - val_loss: 0.3627 - val_accuracy: 0.8470\n",
      "Epoch 82/100\n",
      "54/54 [==============================] - 1s 16ms/step - loss: 0.3282 - accuracy: 0.8660 - val_loss: 0.3628 - val_accuracy: 0.8482\n",
      "Epoch 83/100\n",
      "54/54 [==============================] - 1s 15ms/step - loss: 0.3280 - accuracy: 0.8655 - val_loss: 0.3620 - val_accuracy: 0.8489\n",
      "Epoch 84/100\n",
      "54/54 [==============================] - 0s 8ms/step - loss: 0.3279 - accuracy: 0.8647 - val_loss: 0.3619 - val_accuracy: 0.8497\n",
      "Epoch 85/100\n",
      "54/54 [==============================] - 1s 11ms/step - loss: 0.3280 - accuracy: 0.8653 - val_loss: 0.3621 - val_accuracy: 0.8478\n",
      "Epoch 86/100\n",
      "54/54 [==============================] - 1s 10ms/step - loss: 0.3275 - accuracy: 0.8640 - val_loss: 0.3622 - val_accuracy: 0.8485\n",
      "Epoch 87/100\n",
      "54/54 [==============================] - 1s 9ms/step - loss: 0.3274 - accuracy: 0.8656 - val_loss: 0.3614 - val_accuracy: 0.8485\n",
      "Epoch 88/100\n",
      "54/54 [==============================] - 1s 12ms/step - loss: 0.3273 - accuracy: 0.8643 - val_loss: 0.3616 - val_accuracy: 0.8482\n",
      "Epoch 89/100\n",
      "54/54 [==============================] - 1s 11ms/step - loss: 0.3272 - accuracy: 0.8660 - val_loss: 0.3615 - val_accuracy: 0.8504\n",
      "Epoch 90/100\n",
      "54/54 [==============================] - 1s 18ms/step - loss: 0.3272 - accuracy: 0.8645 - val_loss: 0.3618 - val_accuracy: 0.8497\n",
      "Epoch 91/100\n",
      "54/54 [==============================] - 1s 24ms/step - loss: 0.3269 - accuracy: 0.8664 - val_loss: 0.3621 - val_accuracy: 0.8485\n",
      "Epoch 92/100\n",
      "54/54 [==============================] - 1s 12ms/step - loss: 0.3270 - accuracy: 0.8645 - val_loss: 0.3621 - val_accuracy: 0.8485\n",
      "Epoch 93/100\n",
      "54/54 [==============================] - 1s 10ms/step - loss: 0.3267 - accuracy: 0.8658 - val_loss: 0.3614 - val_accuracy: 0.8489\n",
      "Epoch 94/100\n",
      "54/54 [==============================] - 1s 12ms/step - loss: 0.3267 - accuracy: 0.8645 - val_loss: 0.3618 - val_accuracy: 0.8478\n",
      "Epoch 95/100\n",
      "54/54 [==============================] - 1s 13ms/step - loss: 0.3266 - accuracy: 0.8658 - val_loss: 0.3613 - val_accuracy: 0.8489\n",
      "Epoch 96/100\n",
      "54/54 [==============================] - 0s 7ms/step - loss: 0.3266 - accuracy: 0.8645 - val_loss: 0.3611 - val_accuracy: 0.8485\n",
      "Epoch 97/100\n",
      "54/54 [==============================] - 0s 5ms/step - loss: 0.3265 - accuracy: 0.8655 - val_loss: 0.3612 - val_accuracy: 0.8489\n",
      "Epoch 98/100\n",
      "54/54 [==============================] - 0s 7ms/step - loss: 0.3262 - accuracy: 0.8666 - val_loss: 0.3618 - val_accuracy: 0.8493\n",
      "Epoch 99/100\n",
      "54/54 [==============================] - 1s 12ms/step - loss: 0.3259 - accuracy: 0.8660 - val_loss: 0.3613 - val_accuracy: 0.8482\n",
      "Epoch 100/100\n",
      "54/54 [==============================] - 1s 17ms/step - loss: 0.3263 - accuracy: 0.8671 - val_loss: 0.3615 - val_accuracy: 0.8489\n"
     ]
    }
   ],
   "source": [
    "# fitting the ANN to the training set\n",
    "model_history = classifier.fit(X_train, y_train, validation_split=0.33, batch_size=100,epochs=100)"
   ]
  },
  {
   "cell_type": "code",
   "execution_count": 24,
   "metadata": {},
   "outputs": [
    {
     "data": {
      "text/plain": [
       "dict_keys(['loss', 'accuracy', 'val_loss', 'val_accuracy'])"
      ]
     },
     "execution_count": 24,
     "metadata": {},
     "output_type": "execute_result"
    }
   ],
   "source": [
    "# what u will get in the history of the model\n",
    "# model_history.history.keys()\n",
    "model_history.history.keys()"
   ]
  },
  {
   "cell_type": "code",
   "execution_count": 25,
   "metadata": {},
   "outputs": [
    {
     "name": "stdout",
     "output_type": "stream",
     "text": [
      "dict_keys(['loss', 'accuracy', 'val_loss', 'val_accuracy'])\n"
     ]
    },
    {
     "data": {
      "image/png": "[encoded data removed]",
      "text/plain": [
       "<Figure size 432x288 with 1 Axes>"
      ]
     },
     "metadata": {
      "needs_background": "light"
     },
     "output_type": "display_data"
    }
   ],
   "source": [
    "# using the histoy keys plot a diagram\n",
    "print(model_history.history.keys())\n",
    "plt.plot(model_history.history['accuracy'])\n",
    "plt.plot(model_history.history['val_accuracy'])\n",
    "plt.title('model_accuracy')\n",
    "plt.ylabel('accuracy')\n",
    "plt.xlabel('epoch')\n",
    "plt.legend(['train', 'test'], loc='upper left')\n",
    "plt.show()"
   ]
  },
  {
   "cell_type": "code",
   "execution_count": 26,
   "metadata": {},
   "outputs": [
    {
     "data": {
      "image/png": "[encoded data removed]",
      "text/plain": [
       "<Figure size 432x288 with 1 Axes>"
      ]
     },
     "metadata": {
      "needs_background": "light"
     },
     "output_type": "display_data"
    }
   ],
   "source": [
    "#geting the loss accuracy\n",
    "plt.plot(model_history.history['loss'])\n",
    "plt.plot(model_history.history['val_loss'])\n",
    "plt.title('model loss')\n",
    "plt.ylabel('loss')\n",
    "plt.xlabel('epoch')\n",
    "plt.legend(['train', 'test'], loc='upper right')\n",
    "plt.show()\n"
   ]
  },
  {
   "cell_type": "code",
   "execution_count": 27,
   "metadata": {},
   "outputs": [
    {
     "name": "stdout",
     "output_type": "stream",
     "text": [
      "[[0.3293759 ]\n",
      " [0.3144428 ]\n",
      " [0.20055583]\n",
      " ...\n",
      " [0.13952193]\n",
      " [0.23084328]\n",
      " [0.16147786]]\n",
      "[[False]\n",
      " [False]\n",
      " [False]\n",
      " ...\n",
      " [False]\n",
      " [False]\n",
      " [False]]\n"
     ]
    }
   ],
   "source": [
    "# making the predictions and evaluating the model\n",
    "\n",
    "#predicting the test data set\n",
    "\n",
    "y_pred = classifier.predict(X_test)\n",
    "print(y_pred)\n",
    "#making the condition to get the true or false according to the requirments of the domain\n",
    "y_pred = (y_pred>0.5)\n",
    "print(y_pred)"
   ]
  },
  {
   "cell_type": "code",
   "execution_count": 28,
   "metadata": {},
   "outputs": [
    {
     "data": {
      "text/plain": [
       "array([[1506,   89],\n",
       "       [ 198,  207]])"
      ]
     },
     "execution_count": 28,
     "metadata": {},
     "output_type": "execute_result"
    }
   ],
   "source": [
    "#making the confusion matrix \n",
    "from sklearn.metrics import confusion_matrix\n",
    "\n",
    "cm = confusion_matrix(y_test, y_pred)\n",
    "cm"
   ]
  },
  {
   "cell_type": "code",
   "execution_count": 29,
   "metadata": {},
   "outputs": [
    {
     "data": {
      "text/plain": [
       "0.8565"
      ]
     },
     "execution_count": 29,
     "metadata": {},
     "output_type": "execute_result"
    }
   ],
   "source": [
    "# get the accuracy score\n",
    "\n",
    "from sklearn.metrics import accuracy_score\n",
    "score = accuracy_score(y_pred, y_test)\n",
    "score"
   ]
  },
  {
   "cell_type": "code",
   "execution_count": null,
   "metadata": {},
   "outputs": [],
   "source": []
  }
 ],
 "metadata": {
  "accelerator": "GPU",
  "colab": {
   "name": "GIMANN.ipynb",
   "provenance": []
  },
  "kernelspec": {
   "display_name": "Python 3",
   "language": "python",
   "name": "python3"
  },
  "language_info": {
   "codemirror_mode": {
    "name": "ipython",
    "version": 3
   },
   "file_extension": ".py",
   "mimetype": "text/x-python",
   "name": "python",
   "nbconvert_exporter": "python",
   "pygments_lexer": "ipython3",
   "version": "3.7.6"
  }
 },
 "nbformat": 4,
 "nbformat_minor": 1
}
