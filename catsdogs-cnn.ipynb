{
 "cells": [
  {
   "cell_type": "code",
   "execution_count": 1,
   "metadata": {
    "_cell_guid": "b1076dfc-b9ad-4769-8c92-a6c4dae69d19",
    "_uuid": "8f2839f25d086af736a60e9eeb907d3b93b6e0e5"
   },
   "outputs": [],
   "source": [
    "# This Python 3 environment comes with many helpful analytics libraries installed\n",
    "# It is defined by the kaggle/python Docker image: https://github.com/kaggle/docker-python\n",
    "# For example, here's several helpful packages to load\n",
    "\n",
    "import numpy as np # linear algebra\n",
    "import pandas as pd # data processing, CSV file I/O (e.g. pd.read_csv)\n",
    "\n",
    "# Input data files are available in the read-only \"../input/\" directory\n",
    "# For example, running this (by clicking run or pressing Shift+Enter) will list all files under the input directory\n",
    "\n",
    "import os\n",
    "for dirname, _, filenames in os.walk('/kaggle/input'):\n",
    "    for filename in filenames:\n",
    "        print(os.path.join(dirname, filename))\n",
    "\n",
    "# You can write up to 20GB to the current directory (/kaggle/working/) that gets preserved as output when you create a version using \"Save & Run All\" \n",
    "# You can also write temporary files to /kaggle/temp/, but they won't be saved outside of the current session"
   ]
  },
  {
   "cell_type": "code",
   "execution_count": 2,
   "metadata": {},
   "outputs": [],
   "source": [
    "from tensorflow.compat.v1 import ConfigProto\n",
    "from tensorflow.compat.v1 import InteractiveSession"
   ]
  },
  {
   "cell_type": "code",
   "execution_count": 3,
   "metadata": {},
   "outputs": [],
   "source": [
    "import tensorflow as tf\n",
    "# this get the images we want\n",
    "from tensorflow.keras.preprocessing.image import ImageDataGenerator"
   ]
  },
  {
   "cell_type": "code",
   "execution_count": 4,
   "metadata": {},
   "outputs": [],
   "source": [
    "# data preprocessing part 1\n",
    "#data augmentation\n",
    "# every pixel in the image is 0-1 this only applied to training data set\n",
    "train_datagen = ImageDataGenerator(rescale= 1./255,\n",
    "                                  shear_range= 0.2,\n",
    "                                  zoom_range=0.2,\n",
    "                                  horizontal_flip = True)"
   ]
  },
  {
   "cell_type": "code",
   "execution_count": 6,
   "metadata": {},
   "outputs": [
    {
     "name": "stdout",
     "output_type": "stream",
     "text": [
      "Found 8000 images belonging to 2 classes.\n"
     ]
    }
   ],
   "source": [
    "training_set = train_datagen.flow_from_directory('/kaggle/input/dogs-cats-images/dataset/training_set',\n",
    "                                                target_size = (64,64),\n",
    "                                                batch_size= 32,\n",
    "                                                class_mode = 'binary')\n",
    "# as this is a binary classification binary is given othervise 'category' should be given"
   ]
  },
  {
   "cell_type": "code",
   "execution_count": 7,
   "metadata": {},
   "outputs": [
    {
     "name": "stdout",
     "output_type": "stream",
     "text": [
      "Found 2000 images belonging to 2 classes.\n"
     ]
    }
   ],
   "source": [
    "test_datagen  = ImageDataGenerator(rescale = 1./255)\n",
    "test_set = test_datagen.flow_from_directory('/kaggle/input/dogs-cats-images/dataset/test_set',\n",
    "                                                target_size = (64,64),\n",
    "                                                batch_size= 32,\n",
    "                                                class_mode = 'binary')"
   ]
  },
  {
   "cell_type": "code",
   "execution_count": 8,
   "metadata": {},
   "outputs": [],
   "source": [
    "from tensorflow.keras.layers import Conv2D"
   ]
  },
  {
   "cell_type": "code",
   "execution_count": 13,
   "metadata": {},
   "outputs": [],
   "source": [
    "#part 2 building the CNN\n",
    "\n",
    "# initialising the CNN\n",
    "cnn = tf.keras.models.Sequential()\n",
    "\n",
    "#convolution step1\n",
    "# in padding same for the 0 padding and void for other according to the model it will taken \n",
    "# input shape is 64*64 the size of the image and channels 3 as the rgb\n",
    "cnn.add(tf.keras.layers.Conv2D(filters=32, padding= 'same', kernel_size = 3, activation = 'relu', input_shape = [64,64,3]))\n",
    "\n",
    "#poooling step2\n",
    "cnn.add(tf.keras.layers.MaxPool2D(pool_size=2, strides =2))\n",
    "\n",
    "#another convo layer\n",
    "cnn.add(tf.keras.layers.Conv2D(filters= 32, padding='same', kernel_size=3, activation = 'relu'))\n",
    "cnn.add(tf.keras.layers.MaxPool2D(pool_size =2, strides = 2))\n",
    "\n",
    "#flattening - step 3 making ready to ann\n",
    "cnn.add(tf.keras.layers.Flatten())\n",
    "\n",
    "#full connection step4 ann\n",
    "cnn.add(tf.keras.layers.Dense(units=128, activation = 'relu'))\n",
    "\n",
    "# output layer step 5\n",
    "cnn.add(tf.keras.layers.Dense(units=1, activation = 'sigmoid'))\n"
   ]
  },
  {
   "cell_type": "code",
   "execution_count": 14,
   "metadata": {},
   "outputs": [
    {
     "name": "stdout",
     "output_type": "stream",
     "text": [
      "Model: \"sequential_2\"\n",
      "_________________________________________________________________\n",
      "Layer (type)                 Output Shape              Param #   \n",
      "=================================================================\n",
      "conv2d_3 (Conv2D)            (None, 64, 64, 32)        896       \n",
      "_________________________________________________________________\n",
      "max_pooling2d_3 (MaxPooling2 (None, 32, 32, 32)        0         \n",
      "_________________________________________________________________\n",
      "conv2d_4 (Conv2D)            (None, 32, 32, 32)        9248      \n",
      "_________________________________________________________________\n",
      "max_pooling2d_4 (MaxPooling2 (None, 16, 16, 32)        0         \n",
      "_________________________________________________________________\n",
      "flatten_1 (Flatten)          (None, 8192)              0         \n",
      "_________________________________________________________________\n",
      "dense_2 (Dense)              (None, 128)               1048704   \n",
      "_________________________________________________________________\n",
      "dense_3 (Dense)              (None, 1)                 129       \n",
      "=================================================================\n",
      "Total params: 1,058,977\n",
      "Trainable params: 1,058,977\n",
      "Non-trainable params: 0\n",
      "_________________________________________________________________\n"
     ]
    }
   ],
   "source": [
    "cnn.summary()"
   ]
  },
  {
   "cell_type": "code",
   "execution_count": 15,
   "metadata": {},
   "outputs": [
    {
     "name": "stdout",
     "output_type": "stream",
     "text": [
      "Epoch 1/10\n",
      "250/250 [==============================] - 114s 454ms/step - loss: 0.6865 - accuracy: 0.5516 - val_loss: 0.5826 - val_accuracy: 0.7060\n",
      "Epoch 2/10\n",
      "250/250 [==============================] - 59s 237ms/step - loss: 0.5892 - accuracy: 0.6862 - val_loss: 0.5415 - val_accuracy: 0.7320\n",
      "Epoch 3/10\n",
      "250/250 [==============================] - 60s 238ms/step - loss: 0.5439 - accuracy: 0.7230 - val_loss: 0.5492 - val_accuracy: 0.7080\n",
      "Epoch 4/10\n",
      "250/250 [==============================] - 59s 238ms/step - loss: 0.5296 - accuracy: 0.7345 - val_loss: 0.4765 - val_accuracy: 0.7840\n",
      "Epoch 5/10\n",
      "250/250 [==============================] - 60s 240ms/step - loss: 0.4922 - accuracy: 0.7621 - val_loss: 0.5784 - val_accuracy: 0.7325\n",
      "Epoch 6/10\n",
      "250/250 [==============================] - 59s 237ms/step - loss: 0.4569 - accuracy: 0.7838 - val_loss: 0.4852 - val_accuracy: 0.7715\n",
      "Epoch 7/10\n",
      "250/250 [==============================] - 59s 234ms/step - loss: 0.4491 - accuracy: 0.7905 - val_loss: 0.4721 - val_accuracy: 0.7795\n",
      "Epoch 8/10\n",
      "250/250 [==============================] - 59s 235ms/step - loss: 0.4278 - accuracy: 0.7978 - val_loss: 0.4516 - val_accuracy: 0.7945\n",
      "Epoch 9/10\n",
      "250/250 [==============================] - 59s 236ms/step - loss: 0.4228 - accuracy: 0.8003 - val_loss: 0.4627 - val_accuracy: 0.7920\n",
      "Epoch 10/10\n",
      "250/250 [==============================] - 59s 237ms/step - loss: 0.4012 - accuracy: 0.8179 - val_loss: 0.4440 - val_accuracy: 0.7955\n"
     ]
    },
    {
     "data": {
      "text/plain": [
       "<tensorflow.python.keras.callbacks.History at 0x7f71c36a5390>"
      ]
     },
     "execution_count": 15,
     "metadata": {},
     "output_type": "execute_result"
    }
   ],
   "source": [
    "# Training the CNN\n",
    "cnn.compile(optimizer = 'adam', loss = 'binary_crossentropy', metrics= ['accuracy'])\n",
    "\n",
    "#fit the model\n",
    "cnn.fit(x=training_set, validation_data = test_set, epochs=10)"
   ]
  },
  {
   "cell_type": "code",
   "execution_count": 16,
   "metadata": {},
   "outputs": [],
   "source": [
    "#save the model in h5 format which is suitable for keras\n",
    "#as the model\n",
    "\n",
    "from tensorflow.keras.models import load_model\n",
    "cnn.save('model_rcat_dog.h5')"
   ]
  },
  {
   "cell_type": "code",
   "execution_count": 17,
   "metadata": {},
   "outputs": [],
   "source": [
    "#testing fgr new data for a single prediction\n",
    "\n",
    "import numpy as np\n",
    "from tensorflow.keras.preprocessing import image\n",
    "test_image = image.load_img('/kaggle/input/dogs-cats-images/dataset/test_set/dogs/dog.4781.jpg', target_size = (64,64))\n",
    "#convert the image to array\n",
    "test_image = image.img_to_array(test_image)\n",
    "test_image = test_image/255\n",
    "test_image = np.expand_dims(test_image, axis=0)\n",
    "result = cnn.predict(test_image)"
   ]
  },
  {
   "cell_type": "code",
   "execution_count": 18,
   "metadata": {},
   "outputs": [
    {
     "data": {
      "text/plain": [
       "array([[0.9851175]], dtype=float32)"
      ]
     },
     "execution_count": 18,
     "metadata": {},
     "output_type": "execute_result"
    }
   ],
   "source": [
    "result"
   ]
  },
  {
   "cell_type": "code",
   "execution_count": 19,
   "metadata": {},
   "outputs": [
    {
     "name": "stdout",
     "output_type": "stream",
     "text": [
      "the image is a dog\n"
     ]
    }
   ],
   "source": [
    "if result[0] <= 0.5:\n",
    "    print('the image is a cat')\n",
    "else:\n",
    "    print('the image is a dog')"
   ]
  },
  {
   "cell_type": "code",
   "execution_count": null,
   "metadata": {},
   "outputs": [],
   "source": []
  },
  {
   "cell_type": "code",
   "execution_count": null,
   "metadata": {},
   "outputs": [],
   "source": []
  },
  {
   "cell_type": "code",
   "execution_count": null,
   "metadata": {},
   "outputs": [],
   "source": []
  },
  {
   "cell_type": "code",
   "execution_count": null,
   "metadata": {},
   "outputs": [],
   "source": []
  },
  {
   "cell_type": "code",
   "execution_count": null,
   "metadata": {},
   "outputs": [],
   "source": []
  },
  {
   "cell_type": "code",
   "execution_count": null,
   "metadata": {},
   "outputs": [],
   "source": []
  },
  {
   "cell_type": "code",
   "execution_count": null,
   "metadata": {},
   "outputs": [],
   "source": []
  },
  {
   "cell_type": "code",
   "execution_count": null,
   "metadata": {},
   "outputs": [],
   "source": []
  },
  {
   "cell_type": "code",
   "execution_count": null,
   "metadata": {},
   "outputs": [],
   "source": []
  }
 ],
 "metadata": {
  "kernelspec": {
   "display_name": "Python 3",
   "language": "python",
   "name": "python3"
  },
  "language_info": {
   "codemirror_mode": {
    "name": "ipython",
    "version": 3
   },
   "file_extension": ".py",
   "mimetype": "text/x-python",
   "name": "python",
   "nbconvert_exporter": "python",
   "pygments_lexer": "ipython3",
   "version": "3.7.6"
  }
 },
 "nbformat": 4,
 "nbformat_minor": 4
}
